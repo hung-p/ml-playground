{
 "cells": [
  {
   "cell_type": "markdown",
   "metadata": {
    "id": "xu-pP3nx8iFM"
   },
   "source": [
    "# <b>Stellar Classification</b>"
   ]
  },
  {
   "cell_type": "markdown",
   "metadata": {
    "id": "ZNTDW8Kj8iFQ"
   },
   "source": [
    "### Name: Hung Pham\n",
    "### Email address: mryo.hp@gmail.com"
   ]
  },
  {
   "cell_type": "markdown",
   "metadata": {
    "id": "rx-Xaoy38iFS"
   },
   "source": [
    "##  <u> Project description/introduction text (the background information) </u>"
   ]
  },
  {
   "cell_type": "markdown",
   "metadata": {
    "id": "umYiOnvP8iFS"
   },
   "source": [
    "In astronomy, Stellar Classification has become an important factor for astronomers to identify and categorize different kinds of objects in space. The problem is that many scientists have collected an enormous amount of data in space through telescopes and other astronomical devices but most of them are not classified. \n",
    "\n",
    "We need to classify objects into different categories such as **stars, galaxies, and quasars** to understand more about space and its components. There are many attempts to solve the problem with this type of classification and each of them provides a different approach to the problem. \n",
    "\n",
    "In this project, I will use the “Stellar Classification Dataset - SDSS17” to build a model to classify those astronomical objects into their spectral characteristics. What I would do differently is that I will try to use many different machine learning techniques to classify the objects and compare those techniques to find a better solution to the problem."
   ]
  },
  {
   "cell_type": "markdown",
   "metadata": {
    "id": "p-2YuUpN8iFT"
   },
   "source": [
    "##  <u> Machine learning algorithm selected for this project </u>"
   ]
  },
  {
   "cell_type": "markdown",
   "metadata": {
    "id": "7X39x98X8iFT"
   },
   "source": [
    "The machine learning algorithms I used in this project are:\n",
    "- LinearSVC \n",
    "- SVC with RBF kernel\n",
    "- Logistic Regression\n",
    "- K-Nearest Neighbour Classifier(KNN)\n",
    "- Random Forest Classifier"
   ]
  },
  {
   "cell_type": "markdown",
   "metadata": {
    "id": "o-WEvXyW8iFU"
   },
   "source": [
    "##  <u> Dataset source </u>"
   ]
  },
  {
   "cell_type": "markdown",
   "metadata": {
    "id": "q4TkvA8I8iFU"
   },
   "source": [
    "https://www.kaggle.com/datasets/fedesoriano/stellar-classification-dataset-sdss17"
   ]
  }
 ],
 "metadata": {
  "colab": {
   "collapsed_sections": [],
   "name": "HungPham_TermProjectSubmission.ipynb",
   "provenance": []
  },
  "kernelspec": {
   "display_name": "Python 3.10.5 64-bit (windows store)",
   "language": "python",
   "name": "python3"
  },
  "language_info": {
   "codemirror_mode": {
    "name": "ipython",
    "version": 3
   },
   "file_extension": ".py",
   "mimetype": "text/x-python",
   "name": "python",
   "nbconvert_exporter": "python",
   "pygments_lexer": "ipython3",
   "version": "3.10.5"
  },
  "vscode": {
   "interpreter": {
    "hash": "5094b23e011651f7fdff1752281c7e78f8fc5f402da125f7429f2700f5bf6fb6"
   }
  }
 },
 "nbformat": 4,
 "nbformat_minor": 1
}
