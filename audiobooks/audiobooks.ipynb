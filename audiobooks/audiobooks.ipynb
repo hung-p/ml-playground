{
 "cells": [
  {
   "cell_type": "code",
   "execution_count": null,
   "metadata": {},
   "outputs": [],
   "source": [
    "import numpy as np\n",
    "import tensorflow as tf\n",
    "import matplotlib.pyplot as plt"
   ]
  },
  {
   "cell_type": "code",
   "execution_count": null,
   "metadata": {},
   "outputs": [],
   "source": [
    "npz = np.load('Audiobooks_data_train.npz')\n",
    "train_inputs, train_targets = npz['inputs'].astype(float), npz['targets'].astype(int)\n",
    "\n",
    "npz = np.load('Audiobooks_data_validation.npz')\n",
    "validation_inputs, validation_targets = npz['inputs'].astype(float), npz['targets'].astype(int)\n",
    "\n",
    "npz = np.load('Audiobooks_data_test.npz')\n",
    "test_inputs, test_targets = npz['inputs'].astype(float), npz['targets'].astype(int)"
   ]
  },
  {
   "cell_type": "code",
   "execution_count": null,
   "metadata": {},
   "outputs": [],
   "source": [
    "def plot_loss(name, history):\n",
    "  plt.title(name +' - '+ 'Train vs Validation Losses')\n",
    "  train_losses = history.history['loss']\n",
    "  val_losses = history.history['val_loss']\n",
    "  plt.plot(train_losses,'-o')\n",
    "  plt.plot(val_losses,'-o')\n",
    "  plt.xlabel('Epochs')\n",
    "  plt.ylabel('Losses')\n",
    "  plt.legend(['Train Losses','Validation Losses'])\n",
    "  plt.show()"
   ]
  },
  {
   "cell_type": "markdown",
   "metadata": {},
   "source": [
    "#### 3. The Model"
   ]
  },
  {
   "cell_type": "code",
   "execution_count": null,
   "metadata": {},
   "outputs": [],
   "source": [
    "def train(epochs=100, batch_size=9, optimizer=\"adam\", sequential= [], patience = 2):\n",
    "  model = tf.keras.Sequential(sequential)\n",
    "  model.compile(optimizer=optimizer, loss=tf.keras.losses.SparseCategoricalCrossentropy(), metrics=['accuracy'])\n",
    "  history = model.fit(train_inputs,train_targets, \n",
    "            batch_size= batch_size, epochs = epochs,\n",
    "            callbacks= [tf.keras.callbacks.EarlyStopping(patience =patience)],\n",
    "            validation_data=(validation_inputs, validation_targets),\n",
    "            validation_steps=10,\n",
    "            verbose = 0\n",
    "          )\n",
    "  test_loss, test_accuracy = model.evaluate(test_inputs, test_targets)\n",
    "  return test_loss, test_accuracy , history"
   ]
  }
 ],
 "metadata": {
  "language_info": {
   "name": "python"
  },
  "orig_nbformat": 4
 },
 "nbformat": 4,
 "nbformat_minor": 2
}
