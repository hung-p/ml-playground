{
  "cells": [
    {
      "cell_type": "markdown",
      "metadata": {
        "id": "fiOI4u7uuMMN"
      },
      "source": [
        "### Name: Hung Pham\n",
        "### Email address: mryo.hp@gmail.comn"
      ]
    },
    {
      "cell_type": "markdown",
      "metadata": {
        "id": "AGsOUhtFuMMO"
      },
      "source": [
        "####  <u>References and sources </u>"
      ]
    },
    {
      "cell_type": "markdown",
      "metadata": {
        "id": "UPcCgTe3uMMP"
      },
      "source": [
        "https://www.tensorflow.org/tutorials/load_data/images"
      ]
    },
    {
      "cell_type": "code",
      "execution_count": null,
      "metadata": {
        "id": "vPGmGn_SgWIi"
      },
      "outputs": [],
      "source": [
        "!pip install -q tfds-nightly tensorflow matplotlib"
      ]
    },
    {
      "cell_type": "markdown",
      "metadata": {
        "id": "F1uK0o1WuMMR"
      },
      "source": [
        "#### Load libraries and set random number generator seed"
      ]
    },
    {
      "cell_type": "code",
      "execution_count": null,
      "metadata": {
        "id": "5pMPqzfNuMMR"
      },
      "outputs": [],
      "source": [
        "import numpy as np\n",
        "import pandas as pd\n",
        "import matplotlib.pyplot as plt\n",
        "import seaborn as sns\n",
        "\n",
        "import tensorflow as tf\n",
        "import tensorflow_datasets as tfds\n",
        "from sklearn.metrics import confusion_matrix\n",
        "from tensorflow import keras\n",
        "from tensorflow.keras import layers\n",
        "from tensorflow.keras.models import Sequential\n",
        "from tensorflow.keras.layers import Dense, Dropout, Activation, Flatten\n",
        "from tensorflow.keras.layers import Conv2D, MaxPooling2D"
      ]
    },
    {
      "cell_type": "code",
      "execution_count": null,
      "metadata": {
        "id": "LCHMODPluMMT"
      },
      "outputs": [],
      "source": [
        "np.random.seed(42)"
      ]
    },
    {
      "cell_type": "code",
      "execution_count": null,
      "metadata": {
        "id": "Yu4D276OiPLB"
      },
      "outputs": [],
      "source": [
        "# malaria"
      ]
    },
    {
      "cell_type": "code",
      "execution_count": null,
      "metadata": {},
      "outputs": [],
      "source": [
        "(ds_train, ds_validation, ds_test), ds_info = tfds.load('malaria',\n",
        "                                      split=['train[:70%]', 'train[70%:85%]', 'train[85%:]'],\n",
        "                                      shuffle_files=True, as_supervised=True, with_info=True)"
      ]
    },
    {
      "cell_type": "code",
      "execution_count": null,
      "metadata": {},
      "outputs": [],
      "source": [
        "name = ds_info.features['label'].names\n",
        "num_classes = ds_info.features['label'].num_classes\n",
        "labels = ds_info.features[\"label\"]\n",
        "print(\"Target Classes: \"+str(name))\n",
        "print(\"Num classes: \"+ str(num_classes))"
      ]
    },
    {
      "cell_type": "code",
      "execution_count": null,
      "metadata": {},
      "outputs": [],
      "source": [
        "def get_label(num):\n",
        "    return labels.int2str(num)"
      ]
    },
    {
      "cell_type": "code",
      "execution_count": null,
      "metadata": {},
      "outputs": [],
      "source": [
        "print(ds_info)"
      ]
    },
    {
      "cell_type": "code",
      "execution_count": null,
      "metadata": {},
      "outputs": [],
      "source": [
        "tfds.visualization.show_examples(ds_train, ds_info)"
      ]
    },
    {
      "cell_type": "code",
      "execution_count": null,
      "metadata": {},
      "outputs": [],
      "source": [
        "BATCH_SIZE = 32\n",
        "IMG_SIZE = 130\n",
        "# LEARNING_RATE = 0.001\n",
        "\n",
        "print(\"Training size: \" + str(len(ds_train)))\n",
        "print(\"Validation set size: \" + str(len(ds_validation)))\n",
        "print(\"Testing set size: \" + str(len(ds_test)))"
      ]
    },
    {
      "cell_type": "code",
      "execution_count": null,
      "metadata": {},
      "outputs": [],
      "source": [
        "def resize(image, label):\n",
        "    image = tf.image.convert_image_dtype(image, tf.float32)\n",
        "    image = tf.image.resize_with_crop_or_pad(image, IMG_SIZE, IMG_SIZE)\n",
        "    return image, label"
      ]
    },
    {
      "cell_type": "code",
      "execution_count": null,
      "metadata": {},
      "outputs": [],
      "source": [
        "for image, label in ds_train.take(2):\n",
        "    print(\"Image shape: \", image.numpy().shape)\n",
        "    print(\"Label: \", label.numpy())"
      ]
    },
    {
      "cell_type": "code",
      "execution_count": null,
      "metadata": {},
      "outputs": [],
      "source": [
        "ds_train_resized = (\n",
        "    ds_train\n",
        "    .cache()\n",
        "    .map(resize)\n",
        "    .batch(BATCH_SIZE)\n",
        ") \n",
        "\n",
        "ds_validation_resized = (\n",
        "    ds_validation\n",
        "    .cache()\n",
        "    .map(resize)\n",
        "    .batch(BATCH_SIZE)\n",
        ") \n",
        "ds_test_resized = (\n",
        "    ds_test\n",
        "    .cache()\n",
        "    .map(resize)\n",
        "    .batch(BATCH_SIZE)\n",
        ") "
      ]
    },
    {
      "cell_type": "code",
      "execution_count": null,
      "metadata": {},
      "outputs": [],
      "source": [
        "image_batch, label_batch = next(iter(ds_train_resized))\n",
        "\n",
        "def show_batch(image_batch, label_batch):\n",
        "    plt.figure(figsize=(12,12))\n",
        "    for n in range(25):\n",
        "        ax = plt.subplot(5,5,n+1)\n",
        "        plt.imshow(image_batch[n])\n",
        "        plt.title(\"{}\".format(get_label(label_batch[n])))\n",
        "        plt.axis(\"off\")\n",
        "show_batch(image_batch.numpy(), label_batch.numpy())"
      ]
    },
    {
      "cell_type": "code",
      "execution_count": null,
      "metadata": {},
      "outputs": [],
      "source": [
        "AUTOTUNE = tf.data.AUTOTUNE\n",
        "ds_train_resized = ds_train_resized.cache().prefetch(buffer_size=AUTOTUNE)\n",
        "ds_validation_resized = ds_validation_resized.cache().prefetch(buffer_size=AUTOTUNE)\n",
        "ds_test_resized = ds_test_resized.cache().prefetch(buffer_size=AUTOTUNE)"
      ]
    },
    {
      "cell_type": "code",
      "execution_count": null,
      "metadata": {},
      "outputs": [],
      "source": [
        "for images, lables in ds_train_resized:\n",
        "    print(images.shape)\n",
        "    break"
      ]
    }
  ],
  "metadata": {
    "colab": {
      "collapsed_sections": [],
      "name": "CS171_HungPham_Final_Project_Code.ipynb",
      "private_outputs": true,
      "provenance": []
    },
    "kernelspec": {
      "display_name": "Python 3 (ipykernel)",
      "language": "python",
      "name": "python3"
    },
    "language_info": {
      "codemirror_mode": {
        "name": "ipython",
        "version": 3
      },
      "file_extension": ".py",
      "mimetype": "text/x-python",
      "name": "python",
      "nbconvert_exporter": "python",
      "pygments_lexer": "ipython3",
      "version": "3.9.7"
    }
  },
  "nbformat": 4,
  "nbformat_minor": 0
}
